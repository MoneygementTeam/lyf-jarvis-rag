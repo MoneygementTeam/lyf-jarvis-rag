{
 "cells": [
  {
   "cell_type": "code",
   "metadata": {
    "ExecuteTime": {
     "end_time": "2024-10-13T07:30:57.938028Z",
     "start_time": "2024-10-13T07:30:57.925295Z"
    }
   },
   "source": [
    "import requests\n",
    "\n",
    "# URL of your FastAPI server\n",
    "url = \"http://localhost:8000/recommend/hangover\"\n",
    "# url = \"http://localhost:8000/recommend/diet\"\n",
    "\n",
    "# Send the POST request\n",
    "response = requests.get(url)\n",
    "\n",
    "# Check the response\n",
    "if response.status_code == 200:\n",
    "    print(\"Request successful!\")\n",
    "    print(\"Received response:\", response.json())\n",
    "else:\n",
    "    print(\"Request failed with status code:\", response.status_code)\n",
    "    print(\"Response:\", response.text)"
   ],
   "outputs": [
    {
     "name": "stdout",
     "output_type": "stream",
     "text": [
      "Request successful!\n",
      "Received response: [{'recommend_reason': '다이어트에 좋은 메뉴들로 그릴드 쉬림프&보코치니포케, 스노우두부 포케, 클래식연어포케, 블랙갈릭 닭다리살 포케를 골라봤어요! 좋은 선택이 될 거에요.', 'recommend_text': '', 'recommendations': [{'restaurant': '보울리쉬포케&샐러드', 'menus': ['그릴드 쉬림프&보코치니포케', '스노우두부 포케', '클래식연어포케', '치킨텐더 샌드위치', '클래식 연어 포케', '블랙갈릭 닭다리살 포케', '리코타치즈 샌드위치']}]}]\n"
     ]
    }
   ],
   "execution_count": 6
  },
  {
   "cell_type": "code",
   "execution_count": null,
   "metadata": {},
   "outputs": [],
   "source": []
  }
 ],
 "metadata": {
  "kernelspec": {
   "display_name": ".venv",
   "language": "python",
   "name": "python3"
  },
  "language_info": {
   "codemirror_mode": {
    "name": "ipython",
    "version": 3
   },
   "file_extension": ".py",
   "mimetype": "text/x-python",
   "name": "python",
   "nbconvert_exporter": "python",
   "pygments_lexer": "ipython3",
   "version": "3.12.3"
  }
 },
 "nbformat": 4,
 "nbformat_minor": 2
}
